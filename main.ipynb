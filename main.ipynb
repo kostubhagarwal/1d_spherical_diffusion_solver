{
 "cells": [
  {
   "cell_type": "code",
   "execution_count": 108,
   "metadata": {},
   "outputs": [],
   "source": [
    "import numpy as np\n",
    "import matplotlib.pyplot as plt"
   ]
  },
  {
   "cell_type": "code",
   "execution_count": 163,
   "metadata": {},
   "outputs": [],
   "source": [
    "R = 1 # sphere radius\n",
    "T = 1 # simulation time\n",
    "\n",
    "j = 0.25 # dp\n",
    "k = 0.01 # dt\n",
    "\n",
    "p = np.arange(0, R+j, j)\n",
    "t = np.arange(0, T+k, k)\n",
    "\n",
    "n = len(p)\n",
    "m = len(t)\n",
    "\n",
    "T = np.zeros((n, m+1)) # includes ghost node\n",
    "\n",
    "T[0, :] = 20\n",
    "T[:, 0] = 100\n",
    "\n",
    "factor = k/(j**2)\n",
    "\n",
    "if factor > 0.5:\n",
    "    print(\"Factor is too large\")"
   ]
  },
  {
   "cell_type": "code",
   "execution_count": 164,
   "metadata": {},
   "outputs": [],
   "source": [
    "for i in range(1, n):\n",
    "    for j in range(1, m):\n",
    "        T[i,j] = (1-2*factor)*T[i-1,j] + factor*(T[i-1,j-1] + T[i-1,j+1])\n",
    "        T[i,-1] = T[i,-3]"
   ]
  },
  {
   "cell_type": "code",
   "execution_count": 160,
   "metadata": {},
   "outputs": [
    {
     "name": "stdout",
     "output_type": "stream",
     "text": [
      "1002001 25 5010\n"
     ]
    }
   ],
   "source": [
    "# Sample data\n",
    "x = np.tile(t, m)\n",
    "y = np.repeat(p, n)\n",
    "z = T.flatten()\n",
    "\n",
    "# # Create a 3D figure and an axes object\n",
    "# fig = plt.figure()\n",
    "# ax = fig.add_subplot(111, projection='3d')\n",
    "\n",
    "# # Create a 3D scatter plot\n",
    "# ax.scatter(x, y, z, c='b', marker='o')\n",
    "\n",
    "# # Set labels for each axis\n",
    "# ax.set_xlabel('X-axis')\n",
    "# ax.set_ylabel('Y-axis')\n",
    "# ax.set_zlabel('Z-axis')\n",
    "\n",
    "# # Set the title of the plot\n",
    "# ax.set_title('3D Scatter Plot')\n",
    "\n",
    "# # Show the plot\n",
    "# plt.show()\n",
    "\n",
    "print(len(x), len(y), len(z))"
   ]
  },
  {
   "cell_type": "code",
   "execution_count": null,
   "metadata": {},
   "outputs": [],
   "source": []
  }
 ],
 "metadata": {
  "kernelspec": {
   "display_name": "numerical_stuff",
   "language": "python",
   "name": "python3"
  },
  "language_info": {
   "codemirror_mode": {
    "name": "ipython",
    "version": 3
   },
   "file_extension": ".py",
   "mimetype": "text/x-python",
   "name": "python",
   "nbconvert_exporter": "python",
   "pygments_lexer": "ipython3",
   "version": "3.11.4"
  },
  "orig_nbformat": 4
 },
 "nbformat": 4,
 "nbformat_minor": 2
}
